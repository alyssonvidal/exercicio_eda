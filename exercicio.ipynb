{
 "cells": [
  {
   "cell_type": "markdown",
   "id": "00a9340e",
   "metadata": {},
   "source": [
    "# <div style=\"color:white;display:fill;border-radius:5px;background-color:#0E2031;letter-spacing:0.5px;overflow:hidden\"><p style=\"padding:20px;color:white;overflow:hidden;text-align: center;margin:0;font-size:120%\">Conteúdo</p></div> "
   ]
  },
  {
   "cell_type": "markdown",
   "id": "a6611e56",
   "metadata": {},
   "source": [
    "**Carregamento dos Dados**\n",
    "\n",
    "**Tratamento das Variaveis**\n",
    "- Removendo dados fuplicados\n",
    "- Verificando dados faltantes\n",
    "- Removendo dados estranhos\n",
    "- Ajustando variaveis temporais\n",
    "- Ajustando tipo de dados\n",
    "- Salvando Alterações\n",
    "\n",
    "\n",
    "**Analise Exploratória dos Dados**\n",
    "- P1: Qual horário temos mais vendas? \n",
    "- P2: Qual a marca tem o maior faturamento? \n",
    "- P3: Qual mês temos o maior faturamento?\n",
    "- P4: Qual o número de clientes únicos do 3º trimestre de 2020 e qual a variação entre o 1º e 4º trimestre? \n",
    "- P5: Qual mês obteve o maior ticket médio e quanto esse resultado é maior que a média total de 2020. \n",
    "- P6: Qual produto obteve maior participação de vendas no 2º semestre de 2020? \n",
    "- P7: Quais são os top 5 produtos de maior venda 2020?\n",
    "- P9: Qual tipo de informação você considera importante para compor uma análise de cliente? \n",
    "- P10: Com base nesse dataset, qual sugestão de análise ou visualização adicional você recomendaria? "
   ]
  },
  {
   "cell_type": "markdown",
   "id": "ab789009",
   "metadata": {},
   "source": [
    "Caso queira apenas ir diretamente para analise exploratória dos dados clique no link abaixo...\n",
    "\n",
    "[Descer para a seção de Análise Expploratória dos Dados](#analise-dos-dados)"
   ]
  },
  {
   "cell_type": "markdown",
   "id": "76eb0010",
   "metadata": {},
   "source": [
    "# <div style=\"color:white;display:fill;border-radius:5px;background-color:#0E2031;letter-spacing:0.5px;overflow:hidden\"><p style=\"padding:20px;color:white;overflow:hidden;text-align: center;margin:0;font-size:120%\">Carregamento dos Dados</p></div> "
   ]
  },
  {
   "cell_type": "code",
   "execution_count": 119,
   "id": "3d6e25e3",
   "metadata": {},
   "outputs": [],
   "source": [
    "# Bibliotecas Basicas\n",
    "import pandas as pd\n",
    "import numpy as np\n",
    "from datetime import datetime as dt\n",
    "import matplotlib.pyplot as plt\n",
    "import seaborn as sns"
   ]
  },
  {
   "cell_type": "code",
   "execution_count": 120,
   "id": "b97df1f3",
   "metadata": {},
   "outputs": [],
   "source": [
    "# Carregamento dos dados\n",
    "ROOT_DIR = 'C:/Users/Alysson/Documents/Projects/exercicio_eda'\n",
    "data_raw = pd.read_csv(f'{ROOT_DIR}/dataset.csv')"
   ]
  },
  {
   "cell_type": "code",
   "execution_count": 121,
   "id": "20771c06",
   "metadata": {},
   "outputs": [],
   "source": [
    "HAPPY_COLORS_PALETTE = [\"#e63946\", \"#7209b7\", \"#3a0ca3\", \"#4361ee\", \"#4cc9f0\"]\n",
    "sns.set_palette(sns.color_palette(HAPPY_COLORS_PALETTE))"
   ]
  },
  {
   "cell_type": "code",
   "execution_count": 122,
   "id": "128d569b",
   "metadata": {},
   "outputs": [],
   "source": [
    "data = data_raw.copy()"
   ]
  },
  {
   "cell_type": "code",
   "execution_count": 123,
   "id": "ed340bc0",
   "metadata": {},
   "outputs": [
    {
     "data": {
      "text/plain": [
       "(2633521, 8)"
      ]
     },
     "execution_count": 123,
     "metadata": {},
     "output_type": "execute_result"
    }
   ],
   "source": [
    "# Linnhas, Colunas\n",
    "data.shape"
   ]
  },
  {
   "cell_type": "code",
   "execution_count": null,
   "id": "ead71262",
   "metadata": {},
   "outputs": [],
   "source": []
  },
  {
   "cell_type": "markdown",
   "id": "7ba429d0",
   "metadata": {},
   "source": [
    "# <div style=\"color:white;display:fill;border-radius:5px;background-color:#0E2031;letter-spacing:0.5px;overflow:hidden\"><p style=\"padding:20px;color:white;overflow:hidden;text-align: center;margin:0;font-size:120%\">Tratamento das Variaveis</p></div> "
   ]
  },
  {
   "cell_type": "markdown",
   "id": "82d43d9a",
   "metadata": {},
   "source": [
    "### <div style=\"color:white;display:fill;border-radius:5px;background-color:#2E6B8E;letter-spacing:0.5px;overflow:hidden\"><p style=\"padding:10px;color:white;overflow:hidden;text-align: center;margin:0;font-size:120%\">Removendo Dados Duplicados</p></div> "
   ]
  },
  {
   "cell_type": "code",
   "execution_count": 124,
   "id": "c9745c5c",
   "metadata": {},
   "outputs": [
    {
     "data": {
      "text/plain": [
       "1198255"
      ]
     },
     "execution_count": 124,
     "metadata": {},
     "output_type": "execute_result"
    }
   ],
   "source": [
    "#Verificando order_id duplicado\n",
    "data.duplicated(subset='order_id').sum()"
   ]
  },
  {
   "cell_type": "code",
   "execution_count": 125,
   "id": "1ae63980",
   "metadata": {},
   "outputs": [],
   "source": [
    "#Mantendo apenas o ultimo registro de order_id\n",
    "data=data.drop_duplicates(subset='order_id', keep='last')"
   ]
  },
  {
   "cell_type": "code",
   "execution_count": 126,
   "id": "4daa5fea",
   "metadata": {},
   "outputs": [
    {
     "data": {
      "text/plain": [
       "0"
      ]
     },
     "execution_count": 126,
     "metadata": {},
     "output_type": "execute_result"
    }
   ],
   "source": [
    "#Verificando qualquer duplicado\n",
    "data.duplicated().sum()"
   ]
  },
  {
   "cell_type": "markdown",
   "id": "4d630c5b",
   "metadata": {},
   "source": [
    "**Analise:** Existiam varias order_id com valores duplicados, todas as linhas que tiveram essa ocorrencia foi mantidas o ultimo valor de registro"
   ]
  },
  {
   "cell_type": "markdown",
   "id": "70353832",
   "metadata": {},
   "source": [
    "### <div style=\"color:white;display:fill;border-radius:5px;background-color:#2E6B8E;letter-spacing:0.5px;overflow:hidden\"><p style=\"padding:10px;color:white;overflow:hidden;text-align: center;margin:0;font-size:120%\">Verificando dados Faltantes</p></div>"
   ]
  },
  {
   "cell_type": "code",
   "execution_count": 127,
   "id": "291bbb12",
   "metadata": {},
   "outputs": [
    {
     "data": {
      "text/plain": [
       "event_time             0\n",
       "order_id               0\n",
       "product_id             0\n",
       "category_id       124424\n",
       "category_code     331575\n",
       "brand             173562\n",
       "price             124424\n",
       "user_id          1043352\n",
       "dtype: int64"
      ]
     },
     "execution_count": 127,
     "metadata": {},
     "output_type": "execute_result"
    }
   ],
   "source": [
    "# Verificando valores faltantes totais por coluna\n",
    "data.isna().sum()"
   ]
  },
  {
   "cell_type": "markdown",
   "id": "7d49599e",
   "metadata": {},
   "source": [
    "**Analise:** \n",
    "\n",
    "Existem valores faltantes em alguns campos, que impactam na nossa analise, no entanto serão mantidos pois ainda é considerado que o pedido de ordem existiu, que é uma das analises mais importantes. \n",
    "\n",
    "De qualquer forma os valores faltantes representam um efeito muito negativo na nossa analise, pois prejudicam analises como, de faturamento, clientes unicos totais, marcas totais disponiveis, etc."
   ]
  },
  {
   "cell_type": "markdown",
   "id": "723174da",
   "metadata": {},
   "source": [
    "### <div style=\"color:white;display:fill;border-radius:5px;background-color:#2E6B8E;letter-spacing:0.5px;overflow:hidden\"><p style=\"padding:10px;color:white;overflow:hidden;text-align: center;margin:0;font-size:120%\">Removendo dados não utilizaveis</p></div> "
   ]
  },
  {
   "cell_type": "code",
   "execution_count": 128,
   "id": "2fd86cfa",
   "metadata": {},
   "outputs": [],
   "source": [
    "#Removendo colunas category_code e category_id\n",
    "data=data.drop(columns=['category_code','category_id'], axis=1)"
   ]
  },
  {
   "cell_type": "markdown",
   "id": "f0c9841d",
   "metadata": {},
   "source": [
    "**Analise:** Não foi pedido no exercicio nenhuma analise com relação a categoria..."
   ]
  },
  {
   "cell_type": "markdown",
   "id": "c84d1c1b",
   "metadata": {},
   "source": [
    "### <div style=\"color:white;display:fill;border-radius:5px;background-color:#2E6B8E;letter-spacing:0.5px;overflow:hidden\"><p style=\"padding:10px;color:white;overflow:hidden;text-align: center;margin:0;font-size:120%\">Ajustando as variaveis temporais</p></div> "
   ]
  },
  {
   "cell_type": "code",
   "execution_count": 129,
   "id": "f3d2699c",
   "metadata": {},
   "outputs": [],
   "source": [
    "#Converter para um formato mais legivel de data ao inves de texto\n",
    "data['event_time'] = pd.to_datetime(data['event_time'])"
   ]
  },
  {
   "cell_type": "code",
   "execution_count": 130,
   "id": "576127e4",
   "metadata": {},
   "outputs": [],
   "source": [
    "#Extração de informações de hora, minuto, mês, semestre e ano\n",
    "data['hour'] = data['event_time'].dt.hour\n",
    "data['minute'] = (data['event_time'].dt.minute // 15) * 15  #agrupado em 0 min, 15min, 30min, 45min\n",
    "data['month'] = data['event_time'].dt.month\n",
    "data['quarter'] = data['event_time'].dt.quarter\n",
    "data['year'] = data['event_time'].dt.year\n",
    "data['time'] = data.apply(lambda row: f'{row[\"hour\"]:02}:{row[\"minute\"]:02}', axis=1)"
   ]
  },
  {
   "cell_type": "markdown",
   "id": "f90e12f6",
   "metadata": {},
   "source": [
    "### <div style=\"color:white;display:fill;border-radius:5px;background-color:#2E6B8E;letter-spacing:0.5px;overflow:hidden\"><p style=\"padding:10px;color:white;overflow:hidden;text-align: center;margin:0;font-size:120%\">Removendo dados Estranhos</p></div> \n",
    "\n",
    "Este dataset possuem registros dos anos de 1970 e 2020. Para um problema de negócio real é um pouco estranho que existam valores com apenas esses dois intervalos, então os registros dos anos de 1970 não será usado."
   ]
  },
  {
   "cell_type": "code",
   "execution_count": 131,
   "id": "1789e58a",
   "metadata": {},
   "outputs": [
    {
     "data": {
      "text/plain": [
       "array([2020, 1970])"
      ]
     },
     "execution_count": 131,
     "metadata": {},
     "output_type": "execute_result"
    }
   ],
   "source": [
    "#Verificando todos os anos disponiveis na base de dados\n",
    "data['year'].unique()"
   ]
  },
  {
   "cell_type": "code",
   "execution_count": 132,
   "id": "6c2a47a3",
   "metadata": {},
   "outputs": [],
   "source": [
    "#Selecionando apenas o ano de 2020\n",
    "data=data.loc[data['year']==2020].sort_values(by='event_time')"
   ]
  },
  {
   "cell_type": "markdown",
   "id": "9df810d6",
   "metadata": {},
   "source": [
    "### <div style=\"color:white;display:fill;border-radius:5px;background-color:#2E6B8E;letter-spacing:0.5px;overflow:hidden\"><p style=\"padding:10px;color:white;overflow:hidden;text-align: center;margin:0;font-size:120%\">Ajustando Tipo de Dados</p></div> "
   ]
  },
  {
   "cell_type": "code",
   "execution_count": 133,
   "id": "e3600209",
   "metadata": {},
   "outputs": [],
   "source": [
    "df = data.copy()"
   ]
  },
  {
   "cell_type": "code",
   "execution_count": 134,
   "id": "fc1f05bd",
   "metadata": {},
   "outputs": [
    {
     "name": "stdout",
     "output_type": "stream",
     "text": [
      "<class 'pandas.core.frame.DataFrame'>\n",
      "Index: 1426253 entries, 65680 to 2633520\n",
      "Data columns (total 12 columns):\n",
      " #   Column      Non-Null Count    Dtype              \n",
      "---  ------      --------------    -----              \n",
      " 0   event_time  1426253 non-null  datetime64[ns, UTC]\n",
      " 1   order_id    1426253 non-null  int64              \n",
      " 2   product_id  1426253 non-null  int64              \n",
      " 3   brand       1254076 non-null  object             \n",
      " 4   price       1302874 non-null  float64            \n",
      " 5   user_id     391154 non-null   float64            \n",
      " 6   hour        1426253 non-null  int32              \n",
      " 7   minute      1426253 non-null  int32              \n",
      " 8   month       1426253 non-null  int32              \n",
      " 9   quarter     1426253 non-null  int32              \n",
      " 10  year        1426253 non-null  int32              \n",
      " 11  time        1426253 non-null  object             \n",
      "dtypes: datetime64[ns, UTC](1), float64(2), int32(5), int64(2), object(2)\n",
      "memory usage: 114.3+ MB\n"
     ]
    }
   ],
   "source": [
    "df.info()"
   ]
  },
  {
   "cell_type": "code",
   "execution_count": 135,
   "id": "ecdfa838",
   "metadata": {},
   "outputs": [],
   "source": [
    "#Dataset está com valores separados por \",\" e \".\" o que não é indicado. Além disso a separação em casas decimais\n",
    "#no power BI é por \",\". Os todos dados então serão separados por \",\".\n",
    "\n",
    "df['price'] = df['price'].astype(str).str.replace(',', '.')\n",
    "df['price'] = df['price'].apply(lambda x: '{:.2f}'.format(float(x)))\n",
    "df['price'] = df['price'].astype(str).str.replace('.', ',')"
   ]
  },
  {
   "cell_type": "code",
   "execution_count": 136,
   "id": "a17b8a08",
   "metadata": {},
   "outputs": [],
   "source": [
    "# preco_sem_nulo = data['price'].dropna()\n",
    "# formato_correto = preco_sem_nulo.apply(lambda x: bool(re.match(r'^\\d+\\.\\d{2}$', str(x))))\n",
    "# preco_incorreto = preco_sem_nulo.loc[~formato_correto]\n",
    "# print(preco_incorreto)"
   ]
  },
  {
   "cell_type": "code",
   "execution_count": 137,
   "id": "24b5e156",
   "metadata": {},
   "outputs": [],
   "source": [
    "data['user_id'] = data['user_id'].astype(object)"
   ]
  },
  {
   "cell_type": "markdown",
   "id": "a269f495",
   "metadata": {},
   "source": [
    "### <div style=\"color:white;display:fill;border-radius:5px;background-color:#2E6B8E;letter-spacing:0.5px;overflow:hidden\"><p style=\"padding:10px;color:white;overflow:hidden;text-align: center;margin:0;font-size:120%\">Salvando Alterações</p></div> "
   ]
  },
  {
   "cell_type": "code",
   "execution_count": 138,
   "id": "667c524d",
   "metadata": {},
   "outputs": [],
   "source": [
    "df.to_csv(f'{ROOT_DIR}/dataset_mod.csv', sep=';', index=False)"
   ]
  },
  {
   "cell_type": "markdown",
   "id": "812d83cf",
   "metadata": {},
   "source": [
    "# <div id=\"analise-dos-dados\" style=\"color:white;display:fill;border-radius:5px;background-color:#0E2031;letter-spacing:0.5px;overflow:hidden\"><p style=\"padding:20px;color:white;overflow:hidden;text-align: center;margin:0;font-size:120%\">Analise Exploratória dos Dados</p></div>"
   ]
  },
  {
   "cell_type": "markdown",
   "id": "c01fd840",
   "metadata": {},
   "source": [
    "As perguntas propostas inicialmente serão respondidas agora. essas mesmas respostas também poderão ser respondidas no dashboard do BI, disponibilizado na pagina inicial."
   ]
  },
  {
   "cell_type": "markdown",
   "id": "439c4a58",
   "metadata": {},
   "source": [
    "### <div style=\"color:white;display:fill;border-radius:5px;background-color:#2E6B8E;letter-spacing:0.5px;overflow:hidden\"><p style=\"padding:10px;color:white;overflow:hidden;text-align: center;margin:0;font-size:100%\">Qual horário temos mais vendas?</p></div> "
   ]
  },
  {
   "cell_type": "code",
   "execution_count": 139,
   "id": "95c6a547",
   "metadata": {},
   "outputs": [],
   "source": [
    "#Agrupando contagem da coluna order_id por hora e minuto\n",
    "sales_by_time = data.groupby(['hour', 'minute'])['order_id'].count().reset_index(name='number_of_sales')"
   ]
  },
  {
   "cell_type": "code",
   "execution_count": 140,
   "id": "beca56fc",
   "metadata": {},
   "outputs": [],
   "source": [
    "#Juntando hora e minuto no formato hh:mm\n",
    "sales_by_time['time'] = sales_by_time.apply(lambda row: f'{row[\"hour\"]:02}:{row[\"minute\"]:02}', axis=1)"
   ]
  },
  {
   "cell_type": "code",
   "execution_count": 141,
   "id": "e238c598",
   "metadata": {},
   "outputs": [],
   "source": [
    "# Obter o horário com mais vendas\n",
    "best_time_index = sales_by_time['number_of_sales'].idxmax()\n",
    "best_time = sales_by_time.loc[best_time_index, 'time']"
   ]
  },
  {
   "cell_type": "code",
   "execution_count": 142,
   "id": "3cb6ed8b",
   "metadata": {},
   "outputs": [
    {
     "data": {
      "image/png": "[encoded data removed]",
      "text/plain": [
       "<Figure size 2400x600 with 1 Axes>"
      ]
     },
     "metadata": {},
     "output_type": "display_data"
    }
   ],
   "source": [
    "plt.figure(figsize=(24,6))\n",
    "sns.lineplot(x='time', y='number_of_sales', data=sales_by_time)\n",
    "plt.title('Horários das Vendas')\n",
    "plt.xlabel('Hora')\n",
    "plt.ylabel('Vendas')\n",
    "plt.xticks(rotation=85)\n",
    "plt.axvline(x=best_time_index, color='dimgray');"
   ]
  },
  {
   "cell_type": "code",
   "execution_count": 143,
   "id": "49dd0497",
   "metadata": {},
   "outputs": [
    {
     "data": {
      "text/html": [
       "<div>\n",
       "<style scoped>\n",
       "    .dataframe tbody tr th:only-of-type {\n",
       "        vertical-align: middle;\n",
       "    }\n",
       "\n",
       "    .dataframe tbody tr th {\n",
       "        vertical-align: top;\n",
       "    }\n",
       "\n",
       "    .dataframe thead th {\n",
       "        text-align: right;\n",
       "    }\n",
       "</style>\n",
       "<table border=\"1\" class=\"dataframe\">\n",
       "  <thead>\n",
       "    <tr style=\"text-align: right;\">\n",
       "      <th></th>\n",
       "      <th>number_of_sales</th>\n",
       "      <th>time</th>\n",
       "    </tr>\n",
       "  </thead>\n",
       "  <tbody>\n",
       "    <tr>\n",
       "      <th>42</th>\n",
       "      <td>40691</td>\n",
       "      <td>10:30</td>\n",
       "    </tr>\n",
       "    <tr>\n",
       "      <th>41</th>\n",
       "      <td>39978</td>\n",
       "      <td>10:15</td>\n",
       "    </tr>\n",
       "    <tr>\n",
       "      <th>39</th>\n",
       "      <td>39910</td>\n",
       "      <td>09:45</td>\n",
       "    </tr>\n",
       "    <tr>\n",
       "      <th>43</th>\n",
       "      <td>39835</td>\n",
       "      <td>10:45</td>\n",
       "    </tr>\n",
       "    <tr>\n",
       "      <th>40</th>\n",
       "      <td>39572</td>\n",
       "      <td>10:00</td>\n",
       "    </tr>\n",
       "  </tbody>\n",
       "</table>\n",
       "</div>"
      ],
      "text/plain": [
       "    number_of_sales   time\n",
       "42            40691  10:30\n",
       "41            39978  10:15\n",
       "39            39910  09:45\n",
       "43            39835  10:45\n",
       "40            39572  10:00"
      ]
     },
     "execution_count": 143,
     "metadata": {},
     "output_type": "execute_result"
    }
   ],
   "source": [
    "#Mostrando os 5 melhores horarios\n",
    "sales_by_time[['number_of_sales','time']].sort_values(by='number_of_sales', ascending=False).head()"
   ]
  },
  {
   "cell_type": "markdown",
   "id": "98d51fa4",
   "metadata": {},
   "source": [
    "### Analise\n",
    "\n",
    "**R1:** O melhor horario de venda é em torno das 10:30 foram registrados 40691 vendas nesse horário."
   ]
  },
  {
   "cell_type": "markdown",
   "id": "7e4d01ff",
   "metadata": {},
   "source": [
    "### <div style=\"color:white;display:fill;border-radius:5px;background-color:#2E6B8E;letter-spacing:0.5px;overflow:hidden\"><p style=\"padding:10px;color:white;overflow:hidden;text-align: center;margin:0;font-size:100%\">Qual a marca tem o maior faturamento?</p></div> "
   ]
  },
  {
   "cell_type": "code",
   "execution_count": 144,
   "id": "8c349e8e",
   "metadata": {},
   "outputs": [],
   "source": [
    "#Agrupando somatorio da coluna price por marca\n",
    "sales_brand = data.groupby(['brand'])['price'].sum().reset_index(name='faturamento').sort_values(by='faturamento', ascending=False)"
   ]
  },
  {
   "cell_type": "code",
   "execution_count": 145,
   "id": "496ec03a",
   "metadata": {},
   "outputs": [],
   "source": [
    "#Porcentagem do faturamento total\n",
    "sales_brand['pct'] = round(sales_brand['faturamento']/sales_brand['faturamento'].sum()*100,2)"
   ]
  },
  {
   "cell_type": "code",
   "execution_count": 146,
   "id": "ababc0b8",
   "metadata": {},
   "outputs": [
    {
     "data": {
      "text/html": [
       "<div>\n",
       "<style scoped>\n",
       "    .dataframe tbody tr th:only-of-type {\n",
       "        vertical-align: middle;\n",
       "    }\n",
       "\n",
       "    .dataframe tbody tr th {\n",
       "        vertical-align: top;\n",
       "    }\n",
       "\n",
       "    .dataframe thead th {\n",
       "        text-align: right;\n",
       "    }\n",
       "</style>\n",
       "<table border=\"1\" class=\"dataframe\">\n",
       "  <thead>\n",
       "    <tr style=\"text-align: right;\">\n",
       "      <th></th>\n",
       "      <th>brand</th>\n",
       "      <th>faturamento</th>\n",
       "      <th>pct</th>\n",
       "    </tr>\n",
       "  </thead>\n",
       "  <tbody>\n",
       "    <tr>\n",
       "      <th>11281</th>\n",
       "      <td>samsung</td>\n",
       "      <td>53831519.49</td>\n",
       "      <td>26.07</td>\n",
       "    </tr>\n",
       "    <tr>\n",
       "      <th>10641</th>\n",
       "      <td>apple</td>\n",
       "      <td>36571170.17</td>\n",
       "      <td>17.71</td>\n",
       "    </tr>\n",
       "    <tr>\n",
       "      <th>11058</th>\n",
       "      <td>lg</td>\n",
       "      <td>14224815.52</td>\n",
       "      <td>6.89</td>\n",
       "    </tr>\n",
       "    <tr>\n",
       "      <th>10659</th>\n",
       "      <td>asus</td>\n",
       "      <td>7057891.87</td>\n",
       "      <td>3.42</td>\n",
       "    </tr>\n",
       "    <tr>\n",
       "      <th>11055</th>\n",
       "      <td>lenovo</td>\n",
       "      <td>6755294.66</td>\n",
       "      <td>3.27</td>\n",
       "    </tr>\n",
       "  </tbody>\n",
       "</table>\n",
       "</div>"
      ],
      "text/plain": [
       "         brand  faturamento    pct\n",
       "11281  samsung  53831519.49  26.07\n",
       "10641    apple  36571170.17  17.71\n",
       "11058       lg  14224815.52   6.89\n",
       "10659     asus   7057891.87   3.42\n",
       "11055   lenovo   6755294.66   3.27"
      ]
     },
     "execution_count": 146,
     "metadata": {},
     "output_type": "execute_result"
    }
   ],
   "source": [
    "#Mostrando as cinco melhores marcas\n",
    "sales_brand.head()"
   ]
  },
  {
   "cell_type": "code",
   "execution_count": 147,
   "id": "1f95dbdf",
   "metadata": {},
   "outputs": [],
   "source": [
    "#Função para exbir resultados de forma mais monetária ( na casa de milhões)\n",
    "\n",
    "import matplotlib.ticker as mtick\n",
    "\n",
    "def money_format(x, pos):\n",
    "    return f'${x/1e6:.0f}M'"
   ]
  },
  {
   "cell_type": "code",
   "execution_count": 148,
   "id": "145836e5",
   "metadata": {},
   "outputs": [
    {
     "data": {
      "image/png": "[encoded data removed]",
      "text/plain": [
       "<Figure size 640x480 with 1 Axes>"
      ]
     },
     "metadata": {},
     "output_type": "display_data"
    }
   ],
   "source": [
    "fmt = mtick.FuncFormatter(money_format)\n",
    "\n",
    "ax = sns.barplot(x='brand', y='faturamento', data=sales_brand.head())\n",
    "ax.yaxis.set_major_formatter(fmt)\n",
    "\n",
    "plt.title('Faturamento por mês')\n",
    "plt.xlabel('Mês')\n",
    "plt.ylabel('Faturamento');"
   ]
  },
  {
   "cell_type": "markdown",
   "id": "b1f3e169",
   "metadata": {},
   "source": [
    "### Analise\n",
    "\n",
    "**R2:** A marca que representa o maior faturamento da empresa é a samsung com 27.06% do faturamento totalizando, $53.831.519,66"
   ]
  },
  {
   "cell_type": "markdown",
   "id": "d897b284",
   "metadata": {},
   "source": [
    "### <div style=\"color:white;display:fill;border-radius:5px;background-color:#2E6B8E;letter-spacing:0.5px;overflow:hidden\"><p style=\"padding:10px;color:white;overflow:hidden;text-align: center;margin:0;font-size:100%\">Qual mês temos o maior faturamento?</p></div> "
   ]
  },
  {
   "cell_type": "code",
   "execution_count": 149,
   "id": "9098b3aa",
   "metadata": {},
   "outputs": [],
   "source": [
    "#Agrupando somatorio da coluna price por mês\n",
    "sales_by_month = data.groupby(['month'])['price'].sum().reset_index(name='faturamento').sort_values(by='faturamento', ascending=False)"
   ]
  },
  {
   "cell_type": "code",
   "execution_count": 150,
   "id": "67e1cc23",
   "metadata": {},
   "outputs": [
    {
     "data": {
      "text/html": [
       "<div>\n",
       "<style scoped>\n",
       "    .dataframe tbody tr th:only-of-type {\n",
       "        vertical-align: middle;\n",
       "    }\n",
       "\n",
       "    .dataframe tbody tr th {\n",
       "        vertical-align: top;\n",
       "    }\n",
       "\n",
       "    .dataframe thead th {\n",
       "        text-align: right;\n",
       "    }\n",
       "</style>\n",
       "<table border=\"1\" class=\"dataframe\">\n",
       "  <thead>\n",
       "    <tr style=\"text-align: right;\">\n",
       "      <th></th>\n",
       "      <th>month</th>\n",
       "      <th>faturamento</th>\n",
       "    </tr>\n",
       "  </thead>\n",
       "  <tbody>\n",
       "    <tr>\n",
       "      <th>7</th>\n",
       "      <td>8</td>\n",
       "      <td>36902067.04</td>\n",
       "    </tr>\n",
       "    <tr>\n",
       "      <th>8</th>\n",
       "      <td>9</td>\n",
       "      <td>32161147.40</td>\n",
       "    </tr>\n",
       "    <tr>\n",
       "      <th>5</th>\n",
       "      <td>6</td>\n",
       "      <td>25290595.98</td>\n",
       "    </tr>\n",
       "    <tr>\n",
       "      <th>6</th>\n",
       "      <td>7</td>\n",
       "      <td>19421933.38</td>\n",
       "    </tr>\n",
       "    <tr>\n",
       "      <th>2</th>\n",
       "      <td>3</td>\n",
       "      <td>19356674.27</td>\n",
       "    </tr>\n",
       "    <tr>\n",
       "      <th>4</th>\n",
       "      <td>5</td>\n",
       "      <td>18251726.54</td>\n",
       "    </tr>\n",
       "    <tr>\n",
       "      <th>1</th>\n",
       "      <td>2</td>\n",
       "      <td>15828610.55</td>\n",
       "    </tr>\n",
       "    <tr>\n",
       "      <th>9</th>\n",
       "      <td>10</td>\n",
       "      <td>14582640.50</td>\n",
       "    </tr>\n",
       "    <tr>\n",
       "      <th>0</th>\n",
       "      <td>1</td>\n",
       "      <td>13508240.95</td>\n",
       "    </tr>\n",
       "    <tr>\n",
       "      <th>10</th>\n",
       "      <td>11</td>\n",
       "      <td>8652731.84</td>\n",
       "    </tr>\n",
       "    <tr>\n",
       "      <th>3</th>\n",
       "      <td>4</td>\n",
       "      <td>6061351.68</td>\n",
       "    </tr>\n",
       "  </tbody>\n",
       "</table>\n",
       "</div>"
      ],
      "text/plain": [
       "    month  faturamento\n",
       "7       8  36902067.04\n",
       "8       9  32161147.40\n",
       "5       6  25290595.98\n",
       "6       7  19421933.38\n",
       "2       3  19356674.27\n",
       "4       5  18251726.54\n",
       "1       2  15828610.55\n",
       "9      10  14582640.50\n",
       "0       1  13508240.95\n",
       "10     11   8652731.84\n",
       "3       4   6061351.68"
      ]
     },
     "execution_count": 150,
     "metadata": {},
     "output_type": "execute_result"
    }
   ],
   "source": [
    "sales_by_month"
   ]
  },
  {
   "cell_type": "code",
   "execution_count": 153,
   "id": "ef92f94d",
   "metadata": {},
   "outputs": [
    {
     "data": {
      "image/png": "[encoded data removed]",
      "text/plain": [
       "<Figure size 640x480 with 1 Axes>"
      ]
     },
     "metadata": {},
     "output_type": "display_data"
    }
   ],
   "source": [
    "fmt = mtick.FuncFormatter(money_format)\n",
    "\n",
    "ax = sns.lineplot(x='month', y='faturamento', data=sales_by_month)\n",
    "ax.yaxis.set_major_formatter(fmt)\n",
    "\n",
    "plt.title('Faturamento por mês')\n",
    "plt.xlabel('Mês')\n",
    "plt.ylabel('Faturamento');"
   ]
  },
  {
   "cell_type": "markdown",
   "id": "80c3f8e9",
   "metadata": {},
   "source": [
    "### Analise\n",
    "\n",
    "**R3:** O mês de maior faturamento é o mês de agosto totalizando em $36.902.067,04"
   ]
  },
  {
   "cell_type": "markdown",
   "id": "af3a634e",
   "metadata": {},
   "source": [
    "### <div style=\"color:white;display:fill;border-radius:5px;background-color:#2E6B8E;letter-spacing:0.5px;overflow:hidden\"><p style=\"padding:10px;color:white;overflow:hidden;text-align: center;margin:0;font-size:100%\">Qual o número de clientes únicos do 3º trimestre de 2020 e qual a variação entre o 1º e 4º trimestre? </p></div> "
   ]
  },
  {
   "cell_type": "code",
   "execution_count": 154,
   "id": "340c16ce",
   "metadata": {},
   "outputs": [],
   "source": [
    "#Agrupando usuários unicos por semeste\n",
    "nunique_by_quarter = data.groupby(['quarter'])['user_id'].nunique().reset_index(name='nunique_clients').sort_values(by='nunique_clients', ascending=False)\n",
    "vendas_base = nunique_by_quarter.loc[nunique_by_quarter['quarter'] == 3, 'nunique_clients'].iloc[0]"
   ]
  },
  {
   "cell_type": "code",
   "execution_count": 155,
   "id": "f693e772",
   "metadata": {},
   "outputs": [],
   "source": [
    "# Calcula a variação percentual em relação ao primeiro semestre\n",
    "nunique_by_quarter['variacao_percentual'] = ((nunique_by_quarter['nunique_clients'] - vendas_base) / vendas_base) * 100"
   ]
  },
  {
   "cell_type": "code",
   "execution_count": 156,
   "id": "25d7eed9",
   "metadata": {},
   "outputs": [
    {
     "data": {
      "text/html": [
       "<div>\n",
       "<style scoped>\n",
       "    .dataframe tbody tr th:only-of-type {\n",
       "        vertical-align: middle;\n",
       "    }\n",
       "\n",
       "    .dataframe tbody tr th {\n",
       "        vertical-align: top;\n",
       "    }\n",
       "\n",
       "    .dataframe thead th {\n",
       "        text-align: right;\n",
       "    }\n",
       "</style>\n",
       "<table border=\"1\" class=\"dataframe\">\n",
       "  <thead>\n",
       "    <tr style=\"text-align: right;\">\n",
       "      <th></th>\n",
       "      <th>quarter</th>\n",
       "      <th>nunique_clients</th>\n",
       "      <th>variacao_percentual</th>\n",
       "    </tr>\n",
       "  </thead>\n",
       "  <tbody>\n",
       "    <tr>\n",
       "      <th>2</th>\n",
       "      <td>3</td>\n",
       "      <td>69705</td>\n",
       "      <td>0.000000</td>\n",
       "    </tr>\n",
       "    <tr>\n",
       "      <th>1</th>\n",
       "      <td>2</td>\n",
       "      <td>31618</td>\n",
       "      <td>-54.640270</td>\n",
       "    </tr>\n",
       "    <tr>\n",
       "      <th>3</th>\n",
       "      <td>4</td>\n",
       "      <td>20668</td>\n",
       "      <td>-70.349329</td>\n",
       "    </tr>\n",
       "    <tr>\n",
       "      <th>0</th>\n",
       "      <td>1</td>\n",
       "      <td>4951</td>\n",
       "      <td>-92.897210</td>\n",
       "    </tr>\n",
       "  </tbody>\n",
       "</table>\n",
       "</div>"
      ],
      "text/plain": [
       "   quarter  nunique_clients  variacao_percentual\n",
       "2        3            69705             0.000000\n",
       "1        2            31618           -54.640270\n",
       "3        4            20668           -70.349329\n",
       "0        1             4951           -92.897210"
      ]
     },
     "execution_count": 156,
     "metadata": {},
     "output_type": "execute_result"
    }
   ],
   "source": [
    "nunique_by_quarter"
   ]
  },
  {
   "cell_type": "markdown",
   "id": "293c2b1c",
   "metadata": {},
   "source": [
    "### Analise\n",
    "\n",
    "**R4:** A variação percentual dos clientes do primeiro semestre para o terceiro foi de -92,89% e a variação percentual do terceiro semestre para o quarto foi de -70,34%"
   ]
  },
  {
   "cell_type": "markdown",
   "id": "db5f200f",
   "metadata": {},
   "source": [
    "### <div style=\"color:white;display:fill;border-radius:5px;background-color:#2E6B8E;letter-spacing:0.5px;overflow:hidden\"><p style=\"padding:10px;color:white;overflow:hidden;text-align: center;margin:0;font-size:100%\">Qual mês obteve o maior ticket médio e quanto esse resultado é maior que a média total de 2020.</p></div> "
   ]
  },
  {
   "cell_type": "code",
   "execution_count": 157,
   "id": "a6ebe3c9",
   "metadata": {},
   "outputs": [
    {
     "data": {
      "text/html": [
       "<div>\n",
       "<style scoped>\n",
       "    .dataframe tbody tr th:only-of-type {\n",
       "        vertical-align: middle;\n",
       "    }\n",
       "\n",
       "    .dataframe tbody tr th {\n",
       "        vertical-align: top;\n",
       "    }\n",
       "\n",
       "    .dataframe thead th {\n",
       "        text-align: right;\n",
       "    }\n",
       "</style>\n",
       "<table border=\"1\" class=\"dataframe\">\n",
       "  <thead>\n",
       "    <tr style=\"text-align: right;\">\n",
       "      <th></th>\n",
       "      <th>month</th>\n",
       "      <th>avg_ticket</th>\n",
       "    </tr>\n",
       "  </thead>\n",
       "  <tbody>\n",
       "    <tr>\n",
       "      <th>7</th>\n",
       "      <td>8</td>\n",
       "      <td>217.703604</td>\n",
       "    </tr>\n",
       "    <tr>\n",
       "      <th>9</th>\n",
       "      <td>10</td>\n",
       "      <td>214.712671</td>\n",
       "    </tr>\n",
       "    <tr>\n",
       "      <th>10</th>\n",
       "      <td>11</td>\n",
       "      <td>201.573215</td>\n",
       "    </tr>\n",
       "    <tr>\n",
       "      <th>6</th>\n",
       "      <td>7</td>\n",
       "      <td>190.639131</td>\n",
       "    </tr>\n",
       "    <tr>\n",
       "      <th>8</th>\n",
       "      <td>9</td>\n",
       "      <td>171.868022</td>\n",
       "    </tr>\n",
       "    <tr>\n",
       "      <th>4</th>\n",
       "      <td>5</td>\n",
       "      <td>157.633276</td>\n",
       "    </tr>\n",
       "    <tr>\n",
       "      <th>3</th>\n",
       "      <td>4</td>\n",
       "      <td>148.781337</td>\n",
       "    </tr>\n",
       "    <tr>\n",
       "      <th>2</th>\n",
       "      <td>3</td>\n",
       "      <td>139.491477</td>\n",
       "    </tr>\n",
       "    <tr>\n",
       "      <th>5</th>\n",
       "      <td>6</td>\n",
       "      <td>136.847950</td>\n",
       "    </tr>\n",
       "    <tr>\n",
       "      <th>0</th>\n",
       "      <td>1</td>\n",
       "      <td>118.066645</td>\n",
       "    </tr>\n",
       "    <tr>\n",
       "      <th>1</th>\n",
       "      <td>2</td>\n",
       "      <td>113.868342</td>\n",
       "    </tr>\n",
       "  </tbody>\n",
       "</table>\n",
       "</div>"
      ],
      "text/plain": [
       "    month  avg_ticket\n",
       "7       8  217.703604\n",
       "9      10  214.712671\n",
       "10     11  201.573215\n",
       "6       7  190.639131\n",
       "8       9  171.868022\n",
       "4       5  157.633276\n",
       "3       4  148.781337\n",
       "2       3  139.491477\n",
       "5       6  136.847950\n",
       "0       1  118.066645\n",
       "1       2  113.868342"
      ]
     },
     "execution_count": 157,
     "metadata": {},
     "output_type": "execute_result"
    }
   ],
   "source": [
    "# Agrupando média da coluna price por mês\n",
    "avg_ticket = data.groupby(['month'])['price'].mean().reset_index(name='avg_ticket').sort_values(by='avg_ticket', ascending=False)\n",
    "avg_ticket"
   ]
  },
  {
   "cell_type": "code",
   "execution_count": 158,
   "id": "14935c04",
   "metadata": {},
   "outputs": [
    {
     "data": {
      "image/png": "[encoded data removed]",
      "text/plain": [
       "<Figure size 640x480 with 1 Axes>"
      ]
     },
     "metadata": {},
     "output_type": "display_data"
    }
   ],
   "source": [
    "sns.lineplot(x='month', y='price', data=data)\n",
    "plt.title('Ticket Médio por Mês')\n",
    "plt.xlabel('Mês')\n",
    "plt.ylabel('Ticket Médio');"
   ]
  },
  {
   "cell_type": "code",
   "execution_count": 159,
   "id": "f5390374",
   "metadata": {},
   "outputs": [
    {
     "data": {
      "text/plain": [
       "217.7"
      ]
     },
     "execution_count": 159,
     "metadata": {},
     "output_type": "execute_result"
    }
   ],
   "source": [
    "# Mês com maior ticket médio\n",
    "max_avg_ticket=round(avg_ticket['avg_ticket'].max(),2)\n",
    "max_avg_ticket"
   ]
  },
  {
   "cell_type": "code",
   "execution_count": 160,
   "id": "915585fb",
   "metadata": {},
   "outputs": [
    {
     "data": {
      "text/plain": [
       "161.2"
      ]
     },
     "execution_count": 160,
     "metadata": {},
     "output_type": "execute_result"
    }
   ],
   "source": [
    "# Ticket médio de 2020\n",
    "avg_ticket_2020=round(data['price'].loc[data['year']==2020].mean(),2)\n",
    "avg_ticket_2020"
   ]
  },
  {
   "cell_type": "code",
   "execution_count": 161,
   "id": "0cc0be5d",
   "metadata": {},
   "outputs": [
    {
     "data": {
      "text/plain": [
       "1.3504962779156329"
      ]
     },
     "execution_count": 161,
     "metadata": {},
     "output_type": "execute_result"
    }
   ],
   "source": [
    "# Razão\n",
    "max_avg_ticket/avg_ticket_2020"
   ]
  },
  {
   "cell_type": "markdown",
   "id": "4a6801ae",
   "metadata": {},
   "source": [
    "### Analise\n",
    "\n",
    "**R5:** O mês com maior ticket médio foi o mês de agosto com $217.70, e o ticket médio de 2020 foi de 161,20... O ticket médio do melhor mês é 35,05% maior que a média anual."
   ]
  },
  {
   "cell_type": "markdown",
   "id": "05e3f12f",
   "metadata": {},
   "source": [
    "### <div style=\"color:white;display:fill;border-radius:5px;background-color:#2E6B8E;letter-spacing:0.5px;overflow:hidden\"><p style=\"padding:10px;color:white;overflow:hidden;text-align: center;margin:0;font-size:100%\">Qual produto obteve maior participação de vendas no 2º semestre de 2020?</p></div> "
   ]
  },
  {
   "cell_type": "code",
   "execution_count": 162,
   "id": "c1cdc5cd",
   "metadata": {},
   "outputs": [],
   "source": [
    "#Agrupando produtos do segundo semestre de 2020 por contagem\n",
    "prod_on_2semester = data.loc[(data['quarter']==2)&(data['year']==2020)].groupby(['product_id'])['product_id'].count().reset_index(name='number_of_products').sort_values(by='number_of_products', ascending=False).head()"
   ]
  },
  {
   "cell_type": "code",
   "execution_count": 163,
   "id": "151d6ed9",
   "metadata": {},
   "outputs": [
    {
     "data": {
      "text/html": [
       "<div>\n",
       "<style scoped>\n",
       "    .dataframe tbody tr th:only-of-type {\n",
       "        vertical-align: middle;\n",
       "    }\n",
       "\n",
       "    .dataframe tbody tr th {\n",
       "        vertical-align: top;\n",
       "    }\n",
       "\n",
       "    .dataframe thead th {\n",
       "        text-align: right;\n",
       "    }\n",
       "</style>\n",
       "<table border=\"1\" class=\"dataframe\">\n",
       "  <thead>\n",
       "    <tr style=\"text-align: right;\">\n",
       "      <th></th>\n",
       "      <th>product_id</th>\n",
       "      <th>number_of_products</th>\n",
       "    </tr>\n",
       "  </thead>\n",
       "  <tbody>\n",
       "    <tr>\n",
       "      <th>9156</th>\n",
       "      <td>1515966223523303310</td>\n",
       "      <td>8277</td>\n",
       "    </tr>\n",
       "    <tr>\n",
       "      <th>9150</th>\n",
       "      <td>1515966223523303302</td>\n",
       "      <td>7723</td>\n",
       "    </tr>\n",
       "    <tr>\n",
       "      <th>9149</th>\n",
       "      <td>1515966223523303301</td>\n",
       "      <td>4838</td>\n",
       "    </tr>\n",
       "    <tr>\n",
       "      <th>9154</th>\n",
       "      <td>1515966223523303308</td>\n",
       "      <td>3480</td>\n",
       "    </tr>\n",
       "    <tr>\n",
       "      <th>282</th>\n",
       "      <td>1515966223509089486</td>\n",
       "      <td>2960</td>\n",
       "    </tr>\n",
       "  </tbody>\n",
       "</table>\n",
       "</div>"
      ],
      "text/plain": [
       "               product_id  number_of_products\n",
       "9156  1515966223523303310                8277\n",
       "9150  1515966223523303302                7723\n",
       "9149  1515966223523303301                4838\n",
       "9154  1515966223523303308                3480\n",
       "282   1515966223509089486                2960"
      ]
     },
     "execution_count": 163,
     "metadata": {},
     "output_type": "execute_result"
    }
   ],
   "source": [
    "prod_on_2semester"
   ]
  },
  {
   "cell_type": "markdown",
   "id": "a1c1b553",
   "metadata": {},
   "source": [
    "### Analise\n",
    "\n",
    "**R6:** O produto com mais participações em vendas no segundo semestre de 2020 foi o produto \"1515966223523303301\" com 13582 registros de venda"
   ]
  },
  {
   "cell_type": "markdown",
   "id": "69895557",
   "metadata": {},
   "source": [
    "### <div style=\"color:white;display:fill;border-radius:5px;background-color:#2E6B8E;letter-spacing:0.5px;overflow:hidden\"><p style=\"padding:10px;color:white;overflow:hidden;text-align: center;margin:0;font-size:120%\">Quais são os top 5 produtos de maior venda 2020?</p></div> "
   ]
  },
  {
   "cell_type": "code",
   "execution_count": 164,
   "id": "782280ae",
   "metadata": {},
   "outputs": [],
   "source": [
    "#Agrupando produtos em 2020 por contagem retornando os 5 com mais contagens\n",
    "best5_products = data.loc[data['year']==2020].groupby(['product_id'])['product_id'].count().reset_index(name='number_of_products').sort_values(by='number_of_products', ascending=False).head()"
   ]
  },
  {
   "cell_type": "code",
   "execution_count": 165,
   "id": "8c3238aa",
   "metadata": {},
   "outputs": [
    {
     "data": {
      "text/html": [
       "<div>\n",
       "<style scoped>\n",
       "    .dataframe tbody tr th:only-of-type {\n",
       "        vertical-align: middle;\n",
       "    }\n",
       "\n",
       "    .dataframe tbody tr th {\n",
       "        vertical-align: top;\n",
       "    }\n",
       "\n",
       "    .dataframe thead th {\n",
       "        text-align: right;\n",
       "    }\n",
       "</style>\n",
       "<table border=\"1\" class=\"dataframe\">\n",
       "  <thead>\n",
       "    <tr style=\"text-align: right;\">\n",
       "      <th></th>\n",
       "      <th>product_id</th>\n",
       "      <th>number_of_products</th>\n",
       "    </tr>\n",
       "  </thead>\n",
       "  <tbody>\n",
       "    <tr>\n",
       "      <th>13108</th>\n",
       "      <td>1515966223523303302</td>\n",
       "      <td>19321</td>\n",
       "    </tr>\n",
       "    <tr>\n",
       "      <th>13116</th>\n",
       "      <td>1515966223523303310</td>\n",
       "      <td>13841</td>\n",
       "    </tr>\n",
       "    <tr>\n",
       "      <th>13107</th>\n",
       "      <td>1515966223523303301</td>\n",
       "      <td>13484</td>\n",
       "    </tr>\n",
       "    <tr>\n",
       "      <th>13114</th>\n",
       "      <td>1515966223523303308</td>\n",
       "      <td>9349</td>\n",
       "    </tr>\n",
       "    <tr>\n",
       "      <th>13120</th>\n",
       "      <td>1515966223523303314</td>\n",
       "      <td>6928</td>\n",
       "    </tr>\n",
       "  </tbody>\n",
       "</table>\n",
       "</div>"
      ],
      "text/plain": [
       "                product_id  number_of_products\n",
       "13108  1515966223523303302               19321\n",
       "13116  1515966223523303310               13841\n",
       "13107  1515966223523303301               13484\n",
       "13114  1515966223523303308                9349\n",
       "13120  1515966223523303314                6928"
      ]
     },
     "execution_count": 165,
     "metadata": {},
     "output_type": "execute_result"
    }
   ],
   "source": [
    "best5_products"
   ]
  },
  {
   "cell_type": "code",
   "execution_count": 166,
   "id": "e0024cd6",
   "metadata": {},
   "outputs": [
    {
     "data": {
      "text/plain": [
       "21932"
      ]
     },
     "execution_count": 166,
     "metadata": {},
     "output_type": "execute_result"
    }
   ],
   "source": [
    "data.product_id.nunique()"
   ]
  },
  {
   "cell_type": "markdown",
   "id": "f71ad178",
   "metadata": {},
   "source": [
    "### Analise\n",
    "\n",
    "**R7:** Os cinco produtos com mais registro de vendas são \"1515966223523303302\", \"1515966223523303301\", \"1515966223523303308\", \"1515966223523303310\", \"1515966223523303314\""
   ]
  },
  {
   "cell_type": "markdown",
   "id": "0c51043c",
   "metadata": {},
   "source": [
    "### <div style=\"color:white;display:fill;border-radius:5px;background-color:#2E6B8E;letter-spacing:0.5px;overflow:hidden\"><p style=\"padding:10px;color:white;overflow:hidden;text-align: center;margin:0;font-size:100%\">Qual tipo de informação você considera importante para compor uma análise de cliente?</p></div> "
   ]
  },
  {
   "cell_type": "markdown",
   "id": "dd91844f",
   "metadata": {},
   "source": [
    "**R9**\n",
    "\n",
    "- Ticket Médio do cliente\n",
    "- Frequencia com que o cliente realiza as compras\n",
    "- Recencia entre as compras (principalmente a ultima) realizadas pelo cliente\n",
    "- Quantidade de produtos unicos que o cliente compra\n",
    "- Quantidade total de produtos que o cliente compra\n",
    "- Produto(s) mais caro(s) adquirido pelo cliente\n",
    "- Avaliações dos clientes sobre os produtos, experiencia de compra, etc\n",
    "- Preferencia de forma de pagamento\n",
    "- Participações em programas de fidelidade"
   ]
  },
  {
   "cell_type": "markdown",
   "id": "3ced3d88",
   "metadata": {},
   "source": [
    "### <div style=\"color:white;display:fill;border-radius:5px;background-color:#2E6B8E;letter-spacing:0.5px;overflow:hidden\"><p style=\"padding:10px;color:white;overflow:hidden;text-align: center;margin:0;font-size:100%\">Com base nesse dataset, qual sugestão de análise ou visualização adicional você recomendaria?</p></div> "
   ]
  },
  {
   "cell_type": "markdown",
   "id": "d813147e",
   "metadata": {},
   "source": [
    "**R10**\n",
    "\n",
    "- Quais categorias mais vendidas e quantas categorias unicas possui o dataset?\n",
    "- Quantos produtos unicos possuem cada uma das categorias?\n",
    "- Qual a porcentagem do faturamento representa cada categoria\n",
    "- Qual o valor maximo de uma unica em 2020? E em cada mês?\n",
    "- Cohort\n"
   ]
  }
 ],
 "metadata": {
  "hide_input": false,
  "kernelspec": {
   "display_name": "Python 3 (ipykernel)",
   "language": "python",
   "name": "python3"
  },
  "language_info": {
   "codemirror_mode": {
    "name": "ipython",
    "version": 3
   },
   "file_extension": ".py",
   "mimetype": "text/x-python",
   "name": "python",
   "nbconvert_exporter": "python",
   "pygments_lexer": "ipython3",
   "version": "3.11.2"
  }
 },
 "nbformat": 4,
 "nbformat_minor": 5
}
